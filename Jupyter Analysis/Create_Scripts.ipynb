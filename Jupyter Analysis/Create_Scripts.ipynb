{
 "cells": [
  {
   "cell_type": "code",
   "execution_count": 1,
   "metadata": {
    "ExecuteTime": {
     "end_time": "2019-08-19T14:13:07.388125Z",
     "start_time": "2019-08-19T14:13:06.490127Z"
    }
   },
   "outputs": [
    {
     "name": "stdout",
     "output_type": "stream",
     "text": [
      "Populating the interactive namespace from numpy and matplotlib\n"
     ]
    },
    {
     "data": {
      "text/html": [
       "<style>.container { width:90% !important; }</style>"
      ],
      "text/plain": [
       "<IPython.core.display.HTML object>"
      ]
     },
     "metadata": {},
     "output_type": "display_data"
    }
   ],
   "source": [
    "%pylab notebook\n",
    "import scipy.stats as stats\n",
    "import os\n",
    "import time\n",
    "from scipy.optimize import curve_fit\n",
    "from IPython.core.display import display, HTML\n",
    "from matplotlib.backends.backend_pdf import PdfPages\n",
    "display(HTML(\"<style>.container { width:90% !important; }</style>\"))\n",
    "from operator import itemgetter\n",
    "%matplotlib inline\n",
    "%config InlineBackend.figure_format = 'retina'"
   ]
  },
  {
   "cell_type": "markdown",
   "metadata": {},
   "source": [
    "# Routine to create scripts\n",
    "\n",
    "for submitting to the SCC"
   ]
  },
  {
   "cell_type": "code",
   "execution_count": 16,
   "metadata": {
    "ExecuteTime": {
     "end_time": "2019-08-28T16:02:07.967336Z",
     "start_time": "2019-08-28T16:02:07.957251Z"
    }
   },
   "outputs": [],
   "source": [
    "def createScript(jobName, timer, N, driv, prop, ques, refr, seed):\n",
    "    filename = jobname + '.sh'\n",
    "    file = open(filename,\"w+\")\n",
    "\n",
    "    file.write(\"#!/bin/bash -l \\n \\n\" )\n",
    "\n",
    "    file.write(\"# Set SCC Project \\n\")\n",
    "    file.write(\"#$ -P bunuc \\n\")\n",
    "\n",
    "    file.write(\"# Specify hard time limit for the job. \\n\")\n",
    "    file.write(\"#   The job will be aborted if it runs longer than this time. \\n\")\n",
    "    file.write(\"#$ -l h_rt=96:00:00 \\n \\n\")\n",
    "\n",
    "    file.write(\"# Send an email when the job finishes or if it is aborted (by default no email is sent). \\n\")\n",
    "    file.write(\"#$ -m ea \\n \\n\")\n",
    "\n",
    "    file.write(\"# Reuest a node with at least 4 GB of memory per core \\n\")\n",
    "    file.write(\"#$ -l mem_per_core=8G \\n \\n\")\n",
    "\n",
    "    file.write(\"# Request a paralell environemtn with _ cores \\n\")\n",
    "    file.write(\"#$ -pe omp 1 \\n \\n\")\n",
    "    \n",
    "    # ----- Assign Job Name -----\n",
    "    file.write(\"# Give job a name \\n\")\n",
    "    file.writelines([\"#$ -N \", str(jobName), \"\\n \\n\"])\n",
    "\n",
    "    file.write(\"# Combine output and error files into a single file \\n\")\n",
    "    file.write(\"#$ -j y \\n \\n\")\n",
    "\n",
    "    file.write(\"# Specify the output file name \\n\")\n",
    "    file.write(\"#$ -o outputBrain.txt \\n \\n\")\n",
    "\n",
    "    file.write(\"# Keep track of information related to the current job \\n \\n\")\n",
    "\n",
    "    file.writelines([\"declare -i timer=\", str(timer), \"\\n \\n\"])\n",
    "    file.writelines([\"declare -i N=\", str(N), \"\\n \\n\"])\n",
    "    file.writelines([\"driv=\", str(driv), \"\\n \\n\"])\n",
    "    file.writelines([\"prop=\", str(prop), \"\\n \\n\"])\n",
    "    file.writelines([\"ques=\", str(ques), \"\\n \\n\"])\n",
    "    file.writelines([\"refr=\", str(refr), \"\\n \\n\"])\n",
    "    file.writelines([\"declare -i rand=\", str(seed), \"\\n \\n\"])\n",
    "    file.writelines(['echo -e \\\"$timer\\\\n$N\\\\n$driv\\\\n$prop\\\\n$ques\\\\n$refr\\\\n$rand\\\" |  ./neuralModel \\n'])\n",
    "#     file.writelines(['echo -e \\\"$rand\\\" |  ./histograms \\n'])\n",
    "\n",
    "    file.close()"
   ]
  },
  {
   "cell_type": "markdown",
   "metadata": {},
   "source": [
    "## Example\n",
    "\n",
    "    default1 = [\"brain_130\",100000, 10000, 0.00001, 0.5, 0.5, 1,130]\n",
    "    createScript(default1[0],default1[1],default1[2],default1[3],default1[4],default1[5],default1[6],default1[7])"
   ]
  },
  {
   "cell_type": "code",
   "execution_count": 8,
   "metadata": {
    "scrolled": true
   },
   "outputs": [
    {
     "name": "stdout",
     "output_type": "stream",
     "text": [
      "[1.0e-01 7.5e-02 5.0e-02 2.5e-02 1.0e-02 7.5e-03 5.0e-03 2.5e-03 1.0e-03\n",
      " 7.5e-04 5.0e-04 2.5e-04 1.0e-04 7.5e-05 5.0e-05 2.5e-05 1.0e-05 7.5e-06\n",
      " 5.0e-06 2.5e-06 1.0e-06 7.5e-07 5.0e-07 2.5e-07 1.0e-07]\n",
      "[        10000         40000       1000000       4000000     100000000\n",
      "     400000000   10000000000   40000000000 1000000000000]\n"
     ]
    }
   ],
   "source": [
    "# ---------- Create a list of range of parameter to loop over ---------- \n",
    "epsilonRangeMap = np.array([1e-1, 7.5e-2, 5e-2, 2.5e-2])\n",
    "epsilonRange = epsilonRangeMap\n",
    "epsilonRange = np.append(epsilonRange,epsilonRangeMap*0.1)\n",
    "epsilonRange = np.append(epsilonRange,epsilonRangeMap*0.01)\n",
    "epsilonRange = np.append(epsilonRange,epsilonRangeMap*0.001)\n",
    "epsilonRange = np.append(epsilonRange,epsilonRangeMap*0.0001)\n",
    "epsilonRange = np.append(epsilonRange,epsilonRangeMap*0.00001)\n",
    "epsilonRange = np.append(epsilonRange,1e-7)\n",
    "epsilonRange = np.sort(epsilonRange,-1)\n",
    "epsilonRange = epsilonRange[::-1]\n",
    "print(epsilonRange)\n",
    "    \n",
    "# lambdaRange = np.arange(0.025,0.1,0.001)\n",
    "# print(lambdaRange)\n",
    "\n",
    "\n",
    "Nrangeblank = np.array([1e4, 4e4]).astype(int) \n",
    "Nrange = Nrangeblank\n",
    "Nrange = np.append(Nrange,Nrangeblank*1e2)\n",
    "Nrange = np.append(Nrange,Nrangeblank*1e4)\n",
    "Nrange = np.append(Nrange,Nrangeblank*1e6)\n",
    "Nrange = np.append(Nrange,1e12)\n",
    "Nrange = Nrange.astype('int')\n",
    "print(Nrange)"
   ]
  },
  {
   "cell_type": "code",
   "execution_count": 4,
   "metadata": {},
   "outputs": [],
   "source": [
    "propRange = [0.00010,0.00020,0.00040,0.00080,0.00160,0.00320,0.00640,\n",
    "             0.01280,0.02560,0.05120,0.10240,0.20480,0.40960]"
   ]
  },
  {
   "cell_type": "code",
   "execution_count": 8,
   "metadata": {},
   "outputs": [],
   "source": [
    "seed = 1339\n",
    "for i in range(len(propRange)):\n",
    "    jobname = 'brain_' + str(seed)\n",
    "    default1 = [jobname,10000000, 1000, 0.00001, propRange[i], 0.5, 1000, seed]\n",
    "    createScript(default1[0],default1[1],default1[2],default1[3],default1[4],default1[5],default1[6],default1[7])\n",
    "    seed += 1"
   ]
  },
  {
   "cell_type": "code",
   "execution_count": 9,
   "metadata": {},
   "outputs": [
    {
     "name": "stdout",
     "output_type": "stream",
     "text": [
      "1300.sh brain_1301.sh brain_1302.sh brain_1303.sh brain_1304.sh brain_1305.sh brain_1306.sh brain_1307.sh brain_1308.sh brain_1309.sh brain_1310.sh brain_1311.sh brain_1312.sh brain_1313.sh brain_1314.sh brain_1315.sh brain_1316.sh brain_1317.sh brain_1318.sh brain_1319.sh brain_1320.sh brain_1321.sh brain_1322.sh brain_1323.sh brain_1324.sh brain_1325.sh brain_1326.sh brain_1327.sh brain_1328.sh brain_1329.sh brain_1330.sh brain_1331.sh brain_1332.sh brain_1333.sh brain_1334.sh brain_1335.sh brain_1336.sh brain_1337.sh brain_1338.sh brain_1339.sh brain_1340.sh brain_1341.sh brain_1342.sh brain_1343.sh brain_1344.sh brain_1345.sh brain_1346.sh brain_1347.sh brain_1348.sh brain_1349.sh brain_1350.sh brain_1351.sh\n"
     ]
    }
   ],
   "source": [
    "## Create the string for looping over in the bash script\n",
    "\n",
    "string = \"1300.sh brain_\"\n",
    "for i in range(1301,1351):\n",
    "    string += str(i) +\".sh brain_\"\n",
    "# for i in range(3300,3335):\n",
    "#     string += str(i) +\".sh brain_\"\n",
    "\n",
    "string += str(1351) + '.sh'\n",
    "\n",
    "print(string)"
   ]
  },
  {
   "cell_type": "markdown",
   "metadata": {},
   "source": [
    "## Delete lines in TimeData"
   ]
  },
  {
   "cell_type": "code",
   "execution_count": 6,
   "metadata": {},
   "outputs": [
    {
     "name": "stdout",
     "output_type": "stream",
     "text": [
      "FINISHED!!!\n"
     ]
    }
   ],
   "source": [
    "# Delete every (not nth) line of a file:\n",
    "\n",
    "# cutdown = 2\n",
    "for j in range(16,31):\n",
    "    i = j\n",
    "    cutdown = 43\n",
    "    infile = open('Data/brain_20xx/brain20' + \"{:0>2d}\".format(i) + '_timeData.txt','r').readlines()\n",
    "    with open('Data/brain_20xx/brain20' + \"{:0>2d}\".format(i) + '_timeData.txt','w') as outfile:\n",
    "        for index,line in enumerate(infile):\n",
    "            if index in [0,1,2]:\n",
    "                outfile.write(line)\n",
    "            elif index%cutdown == 1:\n",
    "                outfile.write(line)\n",
    "\n",
    "print(\"FINISHED!!!\")"
   ]
  },
  {
   "cell_type": "code",
   "execution_count": null,
   "metadata": {},
   "outputs": [],
   "source": [
    "for i in range(38,41):\n",
    "    infile = open('Data/brain_30xx/brain32' + \"{:0>2d}\".format(i) + '_timeData.txt','r').readlines()\n",
    "for i in infile:\n",
    "    print(i)"
   ]
  },
  {
   "cell_type": "code",
   "execution_count": 1,
   "metadata": {},
   "outputs": [],
   "source": [
    "from notebook.auth import passwd"
   ]
  },
  {
   "cell_type": "code",
   "execution_count": 2,
   "metadata": {},
   "outputs": [
    {
     "name": "stdout",
     "output_type": "stream",
     "text": [
      "Enter password: ········\n",
      "Verify password: ········\n"
     ]
    },
    {
     "data": {
      "text/plain": [
       "'sha1:3e9d70450e88:8f7715df67c1b636333d419c1a0b14e4d83e5430'"
      ]
     },
     "execution_count": 2,
     "metadata": {},
     "output_type": "execute_result"
    }
   ],
   "source": [
    "passwd()"
   ]
  },
  {
   "cell_type": "code",
   "execution_count": null,
   "metadata": {},
   "outputs": [],
   "source": []
  },
  {
   "cell_type": "code",
   "execution_count": 24,
   "metadata": {},
   "outputs": [],
   "source": [
    "def createScript_1(jobName, timer, N, driv, prop, ques, refr, seed):\n",
    "    filename = jobname + '.sh'\n",
    "    file = open(filename,\"w+\")\n",
    "\n",
    "    file.write(\"#!/bin/bash -l \\n \\n\" )\n",
    "\n",
    "    file.write(\"# Set SCC Project \\n\")\n",
    "    file.write(\"#$ -P bunuc \\n\")\n",
    "\n",
    "    file.write(\"# Specify hard time limit for the job. \\n\")\n",
    "    file.write(\"#   The job will be aborted if it runs longer than this time. \\n\")\n",
    "    file.write(\"#$ -l h_rt=2:00:00 \\n \\n\")\n",
    "\n",
    "    file.write(\"# Send an email when the job finishes or if it is aborted (by default no email is sent). \\n\")\n",
    "    file.write(\"#$ -m as \\n \\n\")\n",
    "\n",
    "    file.write(\"# Reuest a node with at least 4 GB of memory per core \\n\")\n",
    "    file.write(\"#$ -l mem_per_core=8G \\n \\n\")\n",
    "\n",
    "    file.write(\"# Request a paralell environemtn with _ cores \\n\")\n",
    "    file.write(\"#$ -pe omp 4 \\n \\n\")\n",
    "    \n",
    "    # ----- Assign Job Name -----\n",
    "    file.write(\"# Give job a name \\n\")\n",
    "    file.writelines([\"#$ -N \", str(jobName), \"\\n \\n\"])\n",
    "\n",
    "    file.write(\"# Combine output and error files into a single file \\n\")\n",
    "    file.write(\"#$ -j y \\n \\n\")\n",
    "\n",
    "    file.write(\"# Specify the output file name \\n\")\n",
    "    file.writelines([\"#$ -o \", \"output\" + str(jobName) + \".txt\", \"\\n \\n\"])\n",
    "#     file.write(\"#$ -o outputBrain.txt \\n \\n\")\n",
    "\n",
    "    file.write(\"# Keep track of information related to the current job \\n \\n\")\n",
    "\n",
    "    file.writelines([\"declare -i timer=\", str(timer), \"\\n \\n\"])\n",
    "    file.writelines([\"declare -i N=\", str(N), \"\\n \\n\"])\n",
    "    file.writelines([\"driv=\", str(driv), \"\\n \\n\"])\n",
    "    file.writelines([\"prop=\", str(prop), \"\\n \\n\"])\n",
    "    file.writelines([\"ques=\", str(ques), \"\\n \\n\"])\n",
    "    file.writelines([\"refr=\", str(refr), \"\\n \\n\"])\n",
    "    file.writelines([\"declare -i rand=\", str(seed), \"\\n \\n\"])\n",
    "    file.writelines(['echo -e \\\"$timer\\\\n$N\\\\n$driv\\\\n$refr\\\\n$rand\\\" |  ./neuralModel \\n'])\n",
    "\n",
    "    file.close()"
   ]
  },
  {
   "cell_type": "code",
   "execution_count": 45,
   "metadata": {
    "scrolled": true
   },
   "outputs": [
    {
     "name": "stdout",
     "output_type": "stream",
     "text": [
      "[0.1   0.09  0.08  0.07  0.06  0.05  0.04  0.03  0.02  0.01  0.009 0.008\n",
      " 0.007 0.006 0.005 0.004 0.003 0.002 0.001]\n",
      "[1.0000000e+03 1.3720000e+03 1.9530000e+03 2.9150000e+03 4.6300000e+03\n",
      " 8.0000000e+03 1.5625000e+04 3.7037000e+04 1.2500000e+05 1.0000000e+06\n",
      " 1.3717420e+06 1.9531250e+06 2.9154520e+06 4.6296300e+06 8.0000000e+06\n",
      " 1.5625000e+07 3.7037037e+07 1.2500000e+08 1.0000000e+09]\n"
     ]
    }
   ],
   "source": [
    "# ---------- Create a list of range of parameter to loop over ---------- \n",
    "epsilonRangeMap = np.array([1e-1, 9e-2, 8e-2, 7e-2, 6e-2, 5e-2, 4e-2, 3e-2, 2e-2])\n",
    "epsilonRange = epsilonRangeMap\n",
    "epsilonRange = np.append(epsilonRange,epsilonRangeMap*0.1)\n",
    "# epsilonRange = np.append(epsilonRange,epsilonRangeMap*0.01)\n",
    "# epsilonRange = np.append(epsilonRange,epsilonRangeMap*0.001)\n",
    "epsilonRange = np.append(epsilonRange,1e-3)\n",
    "epsilonRange = np.sort(epsilonRange,-1)\n",
    "epsilonRange = epsilonRange[::-1]\n",
    "print(epsilonRange)\n",
    "    \n",
    "# lambdaRange = np.arange(0.025,0.1,0.001)\n",
    "# print(lambdaRange)\n",
    "\n",
    "Nrange = np.zeros_like(epsilonRange)\n",
    "for i in range(len(epsilonRange)):\n",
    "    Nrange[i] = int(round(epsilonRange[i]**(-3)))\n",
    "print(Nrange)"
   ]
  },
  {
   "cell_type": "code",
   "execution_count": 48,
   "metadata": {},
   "outputs": [],
   "source": [
    "seed = 500\n",
    "for i in range(len(Nrange)):\n",
    "    jobname = 'brain_' + str(seed)\n",
    "    default1 = [jobname,1000000, int(Nrange[i]), epsilonRange[i], 0.5, 0.5, 1,seed]\n",
    "    createScript(default1[0],default1[1],default1[2],default1[3],default1[4],default1[5],default1[6],default1[7])\n",
    "    seed += 1"
   ]
  },
  {
   "cell_type": "code",
   "execution_count": 39,
   "metadata": {},
   "outputs": [
    {
     "name": "stdout",
     "output_type": "stream",
     "text": [
      "uTest_500.sh uTest_501.sh uTest_502.sh uTest_503.sh uTest_504.sh uTest_505.sh uTest_506.sh uTest_507.sh uTest_508.sh uTest_509.sh uTest_510.sh uTest_511.sh uTest_512.sh uTest_513.sh uTest_514.sh uTest_515.sh uTest_516.sh uTest_517.sh uTest_518.sh\n"
     ]
    }
   ],
   "source": [
    "## Create the string for looping over in the bash script\n",
    "\n",
    "string = \"uTest_500.sh uTest_\"\n",
    "for i in range(501,518):\n",
    "    string += str(i) +\".sh uTest_\"\n",
    "# for i in range(3300,3335):\n",
    "#     string += str(i) +\".sh brain_\"\n",
    "\n",
    "string += str(518) + '.sh'\n",
    "\n",
    "print(string)"
   ]
  },
  {
   "cell_type": "markdown",
   "metadata": {},
   "source": [
    "## 2019.05.31 G Runs"
   ]
  },
  {
   "cell_type": "code",
   "execution_count": 14,
   "metadata": {
    "ExecuteTime": {
     "end_time": "2019-08-28T15:52:39.844718Z",
     "start_time": "2019-08-28T15:52:39.841384Z"
    }
   },
   "outputs": [],
   "source": [
    "epsRange = [0.1,0.0562341325190349,0.0316227766016838,0.0177827941003892,0.01,0.00562341325190349,0.00316227766016838,0.00177827941003892,0.001,0.000562341325190349,0.000316227766016838,0.000177827941003892,0.0001]\n",
    "epsRange = [0.01, 0.001, 0.0001]\n",
    "# NRange = [5.27E+02,1.05E+03,2.08E+03,4.13E+03,8.21E+03,1.63E+04,\n",
    "#           3.24E+04,6.43E+04,1.28E+05,2.54E+05,5.04E+05,1.00E+06]"
   ]
  },
  {
   "cell_type": "code",
   "execution_count": 20,
   "metadata": {
    "ExecuteTime": {
     "end_time": "2019-08-28T16:03:28.698838Z",
     "start_time": "2019-08-28T16:03:28.695962Z"
    }
   },
   "outputs": [],
   "source": [
    "epsRange=np.logspace(-4,-1,16)"
   ]
  },
  {
   "cell_type": "code",
   "execution_count": 30,
   "metadata": {
    "ExecuteTime": {
     "end_time": "2019-08-28T16:24:44.256200Z",
     "start_time": "2019-08-28T16:24:44.250411Z"
    }
   },
   "outputs": [
    {
     "name": "stdout",
     "output_type": "stream",
     "text": [
      "60, 1000000, 0.000100, 0\n",
      "61, 1000000, 0.000158, 0\n",
      "62, 1000000, 0.000251, 0\n",
      "63, 1000000, 0.000398, 0\n",
      "64, 1000000, 0.000631, 0\n",
      "65, 1000000, 0.001000, 0\n",
      "66, 1000000, 0.001585, 0\n",
      "67, 1000000, 0.002512, 0\n",
      "68, 1000000, 0.003981, 0\n",
      "69, 1000000, 0.006310, 0\n",
      "70, 1000000, 0.010000, 0\n",
      "71, 1000000, 0.015849, 0\n",
      "72, 1000000, 0.025119, 0\n",
      "73, 1000000, 0.039811, 0\n",
      "74, 1000000, 0.063096, 0\n",
      "75, 1000000, 0.100000, 0\n"
     ]
    }
   ],
   "source": [
    "seed = 60\n",
    "for i in (np.logspace(-4,-1,16)):\n",
    "    print(str(seed) + ', ' + str(1000000) + ', ' +str(\"%.6f\" % i) + ', ' + str(0))\n",
    "    seed += 1"
   ]
  },
  {
   "cell_type": "code",
   "execution_count": 21,
   "metadata": {
    "ExecuteTime": {
     "end_time": "2019-08-28T16:03:30.721950Z",
     "start_time": "2019-08-28T16:03:30.709893Z"
    }
   },
   "outputs": [],
   "source": [
    "seed = 60\n",
    "for i in range(len(epsRange)):\n",
    "    jobname = 'brain_' + str(seed)\n",
    "    default1 = [jobname, 2000000, 1000000, epsRange[i], 0, 0.5, 100000000, seed]\n",
    "    createScript(default1[0],default1[1],default1[2],default1[3],default1[4],default1[5],default1[6],default1[7])\n",
    "    seed += 1"
   ]
  },
  {
   "cell_type": "code",
   "execution_count": 9,
   "metadata": {
    "ExecuteTime": {
     "end_time": "2019-08-20T14:44:23.551452Z",
     "start_time": "2019-08-20T14:44:23.546871Z"
    }
   },
   "outputs": [
    {
     "name": "stdout",
     "output_type": "stream",
     "text": [
      "brain_40.sh brain_41.sh brain_42.sh brain_43.sh brain_44.sh brain_45.sh brain_46.sh brain_47.sh brain_48.sh brain_49.sh brain_50.sh brain_51.sh brain_52.sh\n"
     ]
    }
   ],
   "source": [
    "## Create the stringfor looping over in the bash script\n",
    "start = 40\n",
    "end = 52\n",
    "\n",
    "string = \"brain_\" + str(start) + \".sh brain_\"\n",
    "for i in range(start+1,end):\n",
    "    string += str(i) +\".sh brain_\"\n",
    "string += str(end) + '.sh'\n",
    "\n",
    "print(string)"
   ]
  },
  {
   "cell_type": "markdown",
   "metadata": {},
   "source": [
    "## 2019.06.06 $\\alpha$ runs"
   ]
  },
  {
   "cell_type": "code",
   "execution_count": 22,
   "metadata": {},
   "outputs": [
    {
     "name": "stdout",
     "output_type": "stream",
     "text": [
      "-1e-06\n",
      "-3.5938136638046257e-06\n",
      "-1.2915496650148827e-05\n",
      "-4.641588833612782e-05\n",
      "-0.0001668100537200059\n",
      "-0.0005994842503189409\n",
      "-0.0021544346900318843\n",
      "-0.007742636826811277\n",
      "-0.02782559402207126\n",
      "-0.1\n"
     ]
    }
   ],
   "source": [
    "epsRange = [0,1E-6,2.5E-6,5E-6,7.5E-6\n",
    "           ,1E-5,2.5E-5,5E-5,7.5E-5\n",
    "           ,1E-4,2.5E-4,5E-4,7.5E-4\n",
    "           ,1E-3,2.5E-3,5E-3,7.5E-3\n",
    "           ,1E-2,2.5E-2,5E-2,7.5E-2\n",
    "           ,1E-1]\n",
    "\n",
    "lambdRange = -1 * np.logspace(-6,-1,10)\n",
    "for i in range(len(lambdRange)):\n",
    "    print(lambdRange[i])\n",
    "\n",
    "\n",
    "# lambdRange = [0.1,0.01,0.001,0.0001,0.00001,0.000001,0,\n",
    "#               -0.000001,-0.00001,-0.0001,-0.001,-0.01,-0.1]\n",
    "\n",
    "epsRange = [0,1.0E-06, 5.0E-06,1.0E-05,5.0E-05,1.0E-04,5.0E-04,1.0E-03,5.0E-03,1.0E-02,5.0E-02,1.0E-01]"
   ]
  },
  {
   "cell_type": "code",
   "execution_count": 4,
   "metadata": {},
   "outputs": [
    {
     "name": "stdout",
     "output_type": "stream",
     "text": [
      "84\n",
      "85\n",
      "86\n",
      "87\n",
      "88\n",
      "89\n",
      "90\n",
      "91\n",
      "92\n",
      "93\n",
      "94\n",
      "95\n",
      "96\n"
     ]
    }
   ],
   "source": [
    "for i in range(len(lambdRange)):\n",
    "    print(84 + i)"
   ]
  },
  {
   "cell_type": "code",
   "execution_count": 24,
   "metadata": {},
   "outputs": [],
   "source": [
    "seed = 10200\n",
    "for i in range(0,len(lambdRange)):\n",
    "    jobname = 'brain_' + str(seed)\n",
    "    default1 = [jobname, 2000000, 1000000, lambdRange[i], 0, 0.5, 100000000, seed]\n",
    "    createScript(default1[0],default1[1],default1[2],default1[3],default1[4],default1[5],default1[6],default1[7])\n",
    "    seed += 1"
   ]
  },
  {
   "cell_type": "code",
   "execution_count": 32,
   "metadata": {
    "scrolled": true
   },
   "outputs": [],
   "source": [
    "# Make 10 copies of each run\n",
    "\n",
    "lambdRange = -1 * np.logspace(-6,-1,10)\n",
    "\n",
    "seed = 10200\n",
    "for i in range(0,len(lambdRange)):\n",
    "    for j in range(0,10):\n",
    "        jobname = 'brain_' + str(seed)\n",
    "        default1 = [jobname, 1500000, 1000000, 0, lambdRange[i], 0.5, 100000000, seed]\n",
    "        createScript(default1[0],default1[1],default1[2],default1[3],default1[4],default1[5],default1[6],default1[7])\n",
    "        seed += 1\n",
    "        \n",
    "for i in range(0,len(lambdRange)):\n",
    "    for j in range(0,10):\n",
    "        jobname = 'brain_' + str(seed)\n",
    "        default1 = [jobname, 1500000, 1000000, lambdRange[i], 0, 0.5, 100000000, seed]\n",
    "        createScript(default1[0],default1[1],default1[2],default1[3],default1[4],default1[5],default1[6],default1[7])\n",
    "        seed += 1\n",
    "\n",
    "lambdRange = [1]\n",
    "seed = 10400\n",
    "for i in range(0,len(lambdRange)):\n",
    "    for j in range(0,10):\n",
    "        jobname = 'brain_' + str(seed)\n",
    "        default1 = [jobname, 1500000, 1000000, 0, 0, 0.5, 100000000, seed]\n",
    "        createScript(default1[0],default1[1],default1[2],default1[3],default1[4],default1[5],default1[6],default1[7])\n",
    "        seed += 1"
   ]
  },
  {
   "cell_type": "code",
   "execution_count": null,
   "metadata": {},
   "outputs": [],
   "source": []
  }
 ],
 "metadata": {
  "kernelspec": {
   "display_name": "Python 3",
   "language": "python",
   "name": "python3"
  },
  "language_info": {
   "codemirror_mode": {
    "name": "ipython",
    "version": 3
   },
   "file_extension": ".py",
   "mimetype": "text/x-python",
   "name": "python",
   "nbconvert_exporter": "python",
   "pygments_lexer": "ipython3",
   "version": "3.7.1"
  },
  "toc": {
   "base_numbering": 1,
   "nav_menu": {},
   "number_sections": true,
   "sideBar": true,
   "skip_h1_title": false,
   "title_cell": "Table of Contents",
   "title_sidebar": "Contents",
   "toc_cell": false,
   "toc_position": {},
   "toc_section_display": true,
   "toc_window_display": false
  },
  "varInspector": {
   "cols": {
    "lenName": 16,
    "lenType": 16,
    "lenVar": 40
   },
   "kernels_config": {
    "python": {
     "delete_cmd_postfix": "",
     "delete_cmd_prefix": "del ",
     "library": "var_list.py",
     "varRefreshCmd": "print(var_dic_list())"
    },
    "r": {
     "delete_cmd_postfix": ") ",
     "delete_cmd_prefix": "rm(",
     "library": "var_list.r",
     "varRefreshCmd": "cat(var_dic_list()) "
    }
   },
   "types_to_exclude": [
    "module",
    "function",
    "builtin_function_or_method",
    "instance",
    "_Feature"
   ],
   "window_display": false
  }
 },
 "nbformat": 4,
 "nbformat_minor": 2
}
